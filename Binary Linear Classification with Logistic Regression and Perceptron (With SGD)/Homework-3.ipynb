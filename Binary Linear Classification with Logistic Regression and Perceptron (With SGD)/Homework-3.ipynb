{
 "cells": [
  {
   "cell_type": "markdown",
   "metadata": {},
   "source": [
    "#### Student informations (Max. 2 students) should be written in this cell (Student ID, Student Name).\n",
    "\n",
    "Student 1:\n",
    "\n",
    "Student 2: "
   ]
  },
  {
   "cell_type": "code",
   "execution_count": 1,
   "metadata": {},
   "outputs": [],
   "source": [
    "%load_ext autoreload\n",
    "%autoreload 2"
   ]
  },
  {
   "cell_type": "markdown",
   "metadata": {},
   "source": [
    "# HOMEWORK-3 Binary Linear Classification with Logistic Regression and Perceptron (Using Stochastic Gradient Descent)\n",
    "\n",
    "In this homework, you will implement binary classification models such as Logistic Regression and Perceptron with appropriate cost functions, and train these models using Stochastic Gradient Descent algorithm.\n",
    "\n",
    "Your homework includes 4 problems in total. Please read this notebook carefully to provide all required solutions to the problems. ( For your questions, e-mail to : ergunesr@itu.edu.tr )"
   ]
  },
  {
   "cell_type": "markdown",
   "metadata": {},
   "source": [
    "We will start by reviewing Logistic Regression."
   ]
  },
  {
   "cell_type": "markdown",
   "metadata": {},
   "source": [
    "# 1. Logistic Regression with Mean Squared Error and Cross Entropy Cost For Binary Linear Classification\n",
    "\n",
    "Binary classification is an instance of regression wherein the data still comes in the form of $P$ input/output pairs $\\{(\\mathbf{x}_p, y_p)\\}^{P}_{p=1}$, and each input $\\mathbf{x}_p$ is an $N$-dimensional vector. Now, the corresponding target $y_p$'s are no longer continuous but takes on only two discrete numbers. \n",
    "\n",
    "In the first problem set, you are expected to implement **two-class classification** by using Logistic Regression. Regressing a nonlinear step function to the data is called _Regression Perspective_ on classification. \n",
    "\n",
    "Denoting a linear model of $N$-dimensional input:\n",
    "\n",
    "$\\mathbf{\\widetilde{x}}^T \\mathbf{\\widetilde{w}} = b + x_1 w_1 + x_2 w_2 + \\cdots + x_N w_N$\n",
    "\n",
    "where \n",
    "\n",
    "<div style=\"text-align:center\">\n",
    "$\\mathbf{\\widetilde{w}} = \\begin{bmatrix}\n",
    "b \\\\\n",
    "w_1 \\\\\n",
    "w_2 \\\\\n",
    "\\vdots \\\\\n",
    "w_{N}\n",
    "\\end{bmatrix}$\n",
    "and $\\mathbf{\\widetilde{x}} = \\begin{bmatrix}\n",
    "1 \\\\\n",
    "x_1 \\\\\n",
    "x_2 \\\\\n",
    "\\vdots \\\\\n",
    "x_{N}\n",
    "\\end{bmatrix}$ . \n",
    "</div> \n",
    "\n",
    "The sigmoid function approximates the logistic regression by mapping input values to a probability between 0 and 1, enabling binary classification. The _Logistic Sigmoid Function_ is:\n",
    "<div style=\"text-align:center\">\n",
    "$\\displaystyle \\sigma(x) = \\frac{1}{1 + e^{-x}}$\n",
    "</div> \n",
    "In Logistic Regression, the following approaximate equality holds:\n",
    "\n",
    "<div style=\"text-align:center\">\n",
    "   $ \\sigma(\\mathbf{\\widetilde{x}}^T_p \\mathbf{\\widetilde{w}}) \\approx y_p, $ \n",
    "\n",
    "</div> \n",
    "where\n",
    "$p=1,...,P.$\n",
    "\n",
    "The corresponding Least Squares cost function is:\n",
    "\n",
    "<div style=\"text-align:center\">\n",
    "$ g(\\mathbf{\\widetilde{w}}) = \\frac {1} {P} \\sum_{p=1}^{P} (\\sigma(\\mathbf{\\widetilde{x}}^T_p \\mathbf{\\widetilde{w}}) - y_p)^2 $\n",
    "</div> \n",
    "\n",
    "Fitting a logistic sigmoid to classification data by minimizing $ g(\\mathbf{\\widetilde{w}})$ is referred to as _logistic regression_.\n",
    "\n",
    "Thus, the value of $\\mathbf{\\widetilde{w}}$ that minimizes $g(\\mathbf{\\widetilde{w}})$ is:\n",
    "\n",
    "<div style=\"text-align:center\">\n",
    "$\\mathbf{\\widetilde{w}}^{*} = argmin_{\\mathbf{\\widetilde{w}}} g(\\mathbf{\\widetilde{w}}) $\n",
    "</div> \n",
    "\n",
    "In this homework, you are assigned to find $\\mathbf{\\widetilde{w}}^{*}$ with **stochastic gradient descent**. Stochastic gradient descent uses the two equations below for the two versions of Logistic Regression you will implement. \n",
    "\n",
    "\\begin{align*}\n",
    "w_{i}^{t+1} &= w_{i}^{t} - \\alpha \\frac{\\partial g(\\mathbf{\\widetilde{w}}^{t})}{\\partial w_{i}^t} \\text{ for all } i \\\\\n",
    "b^{t+1} &= b^{t} - \\alpha \\frac{\\partial g(\\mathbf{\\widetilde{w}}^t)}{\\partial b^t}\n",
    "\\end{align*}\n",
    "\n",
    "\n",
    "\n",
    "### Logistic Regression using the Cross Entropy cost \n",
    "\n",
    "The squared error cost works for every output value $y_p$. Because we know two-class classification setting is limited to the discrete values $ y_p \\in \\{0,1\\}$, we can use more appropriate costs. \n",
    "\n",
    "_Log Error_ is defined as follows:\n",
    "<div style=\"text-align:center\">\n",
    "$$\n",
    "g(\\mathbf{\\widetilde{w}}) =\n",
    "\\begin{cases}\n",
    "    -log(\\sigma(\\mathbf{\\widetilde{x}}^T_p \\mathbf{\\widetilde{w}}) ) & \\text{if } y_p = 1 \\\\\n",
    "    -log(1 - \\sigma(\\mathbf{\\widetilde{x}}^T_p \\mathbf{\\widetilde{w}}) ) & \\text{if } y_p = 0\n",
    "\\end{cases}\n",
    "$$\n",
    "</div> \n",
    "\n",
    "This representation penalizes divergence from target values much more harshly than a squared error. The equivalent form of the log error in single line, formed by taking the average over all dataset is:\n",
    "\n",
    "\n",
    "\n",
    "<div style=\"text-align:center\">\n",
    "$g(\\mathbf{\\widetilde{w}}) = \\frac {1} {P} \\sum_{p=1}^{P} y_p log(\\sigma(\\mathbf{\\widetilde{x}}^T_p \\mathbf{\\widetilde{w}}) + (1-y_p)log(1 - \\sigma(\\mathbf{\\widetilde{x}}^T_p \\mathbf{\\widetilde{w}})$\n",
    "</div> \n",
    "\n",
    "This is, referred to as the _Cross Entropy cost_ for logistic regression.\n",
    "\n",
    "The Cross Entropy cost function is utilized in logistic regression, offering advantages over the Least Squares method which is non-convex. Cross Entropy cost is always convex, ensuring more stable optimization. On the first problem, you are tasked with implementing Logistic Regression using both the squared error and cross entropy cost functions. \n",
    "\n",
    "## Vectorized Representation\n",
    "\n",
    "The input to the model will be provided as a matrix with one sample in each column of $\\mathbf{X}$:\n",
    "\n",
    "\n",
    "<div style=\"text-align:center\">\n",
    "$ \\mathbf{X} = \\begin{bmatrix}\n",
    "x_{1,1} & x_{1,2} & \\ldots & x_{1,P} \\\\\n",
    "x_{2,1} & x_{2,2} & \\ldots & x_{2,P} \\\\\n",
    " \\vdots & \\vdots & \\ddots & \\vdots \\\\\n",
    "x_{N,1} & x_{N,2} & \\ldots & x_{N,P}\n",
    "\\end{bmatrix} $\n",
    "</div>\n",
    "\n",
    "The weight vector will be a row vector, containing:\n",
    "\n",
    "<div style=\"text-align:center\">\n",
    "$ \\mathbf{w} = [w_1, w_2, \\cdots , w_N ]$\n",
    "</div>\n",
    "\n",
    "And bias term will be a scalar. \n",
    "\n",
    "## Normalization\n",
    "\n",
    "Similar to Homework-2, you need to implement **MinMaxScaler** in **data_utils.py** in  **LogisticRegression.py**. (Normalization scales the features of a dataset to a consistent range, preventing dominance by features with larger scales.)\n",
    "\n",
    "## Evaluation Metrics - Accuracy, Precision, Recall, and F1 \n",
    "\n",
    "In this homework you are expected to report your models' results with commonly used classification metrics: accuracy, precision, recall, and F1.\n",
    "\n",
    "Accuracy measures the proportion of correctly identified instances among the total instances. It's calculated as the ratio of the number of correct predictions to the total number of predictions made.\n",
    "   - Formula: \n",
    "     ```\n",
    "     Accuracy = (Number of Correct Predictions) / (Total Number of Predictions)\n",
    "     ```\n",
    "\n",
    "Recall, also known as sensitivity or true positive rate, measures the proportion of actual positive instances that were correctly identified by the model.\n",
    "   - It answers the question: \"Of all the positive instances, how many did we correctly identify?\"\n",
    "   - Formula: \n",
    "     ```\n",
    "     Recall = True Positives / (True Positives + False Negatives)\n",
    "     ```\n",
    "\n",
    "Precision measures the proportion of true positive predictions among all positive predictions made by the model.\n",
    "   - It answers the question: \"Of all the instances predicted as positive, how many are actually positive?\"\n",
    "   - Formula: \n",
    "     ```\n",
    "     Precision = True Positives / (True Positives + False Positives)\n",
    "     ```\n",
    "\n",
    "F1 score is the harmonic mean of precision and recall. It provides a balance between precision and recall.\n",
    "   - It's particularly useful when the dataset is imbalanced.\n",
    "   - Formula:\n",
    "     ```\n",
    "     F1 = 2 * (Precision * Recall) / (Precision + Recall)\n",
    "     ```\n",
    "\n",
    "\n",
    "You are expected to complete the following tasks:\n",
    "\n",
    "1) Implement feature normalization class **MinMaxScaler** as instructed,\n",
    "\n",
    "2) Implement and train Logistic Regression models with Mean Squared Error and Cross Entropy Cost by using stochastic gradient descent. Plot and report the training and test accuracies, precision, recall, and F1 scores of both methods and compare the results. Write your comments in a cell.\n",
    "\n",
    "To provide your solution for Logistic regression, you need to complete the **LogisticRegression** class inside **LogisticRegression.py**  by implementing methods for initialization, sigmoid function computation, hypothesis calculation, training for binary classification with mean squared error (by stochastic gradient descent), training with cross-entropy loss (by stochastic gradient descent). The methods should handle initialization of instance variables, computation of sigmoid function, calculation of hypothesis values, iterative stochastic gradient descent updates for both mean squared error and cross-entropy loss. Please write your solutions to the designated spaces in **LogisticRegression.py** as instructed.\n",
    "\n",
    "We start by calling **generate_data()** function. **This dataset will consist 20% of the dataset as the test set.** You do not need to change anything related to the data."
   ]
  },
  {
   "cell_type": "code",
   "execution_count": 9,
   "metadata": {},
   "outputs": [],
   "source": [
    "import numpy as np\n",
    "import matplotlib.pyplot as plt\n",
    "from data_utils import generate_data, MinMaxScaler\n",
    "\n",
    "x_train, x_test, y_train, y_test = generate_data()\n"
   ]
  },
  {
   "cell_type": "markdown",
   "metadata": {},
   "source": [
    "We can visualize our dataset as follows."
   ]
  },
  {
   "cell_type": "code",
   "execution_count": 6,
   "metadata": {},
   "outputs": [
    {
     "data": {
      "image/png": "[encoded data removed]",
      "text/plain": [
       "<Figure size 640x480 with 1 Axes>"
      ]
     },
     "metadata": {},
     "output_type": "display_data"
    }
   ],
   "source": [
    "from matplotlib import pyplot as plt\n",
    "\n",
    "# Visualize training data\n",
    "plt.scatter(x_train[0], x_train[1], c=y_train, cmap='viridis', label='Training Data')\n",
    "# Visualize testing data\n",
    "plt.scatter(x_test[0], x_test[1], c=y_test, cmap='viridis', marker='x', label='Testing Data')\n",
    "\n",
    "plt.xlabel('Feature 1')\n",
    "plt.ylabel('Feature 2')\n",
    "plt.title('Dataset Visualization')\n",
    "plt.legend()\n",
    "plt.show()"
   ]
  },
  {
   "cell_type": "markdown",
   "metadata": {},
   "source": [
    "The **transform** and **inverse_transform** methods are part of the **MinMaxScaler** class, which is commonly used for feature scaling and normalization. Feature scaling is important in data preprocessing to ensure that features with larger values do not dominate the model training process. The transform method scales the input data to a desired range, while the **inverse_transform** method can be used to reverse this scaling operation. By implementing these methods in the data_utils.py file, we can ensure that the input data is properly scaled and balanced, which can improve the performance of the classifiers."
   ]
  },
  {
   "cell_type": "code",
   "execution_count": 3,
   "metadata": {},
   "outputs": [],
   "source": [
    "# Create an instance of MinMaxScaler\n",
    "scaler = MinMaxScaler()\n",
    "\n",
    "# Fit the scaler to x_train\n",
    "scaler.fit(x_train)\n",
    "\n",
    "# Transform x_train and x_test\n",
    "x_train_scaled = scaler.transform(x_train)\n",
    "x_test_scaled = scaler.transform(x_test)"
   ]
  },
  {
   "cell_type": "markdown",
   "metadata": {},
   "source": [
    "**LogisticRegression()** class takes datasets as inputs and returns a Logistic Regression model object. This class has two training methods. **train_binary_classification()** method is for training the model with minimizing the mean squared error while **train_binary_classification_cross_entropy()** trains the model by minimizing cross entropy loss. These methods find optimal Logistic Regression model parameters $\\mathbf{\\widetilde{w}}^{*}$ by using Stochastic Gradient Descent algortihm. Please code up necessary operations inside  **LogisticRegression** module and run the following cells. "
   ]
  },
  {
   "cell_type": "markdown",
   "metadata": {},
   "source": [
    "#### First, we will start by training Logistic Regression with MSE."
   ]
  },
  {
   "cell_type": "code",
   "execution_count": null,
   "metadata": {
    "scrolled": true
   },
   "outputs": [],
   "source": [
    "import numpy as np\n",
    "import matplotlib.pyplot as plt\n",
    "from LogisticRegression import LogisticRegression\n",
    "\n",
    "# Create a model instance\n",
    "model_mse = LogisticRegression(x_train_scaled, y_train, x_test_scaled, y_test)\n",
    "# Start training my calling the MSE training method.\n",
    "train_acc_mse, test_acc_mse = model_mse.train_binary_classification(iterations=1000)"
   ]
  },
  {
   "cell_type": "markdown",
   "metadata": {},
   "source": [
    "#### Then you may start training with Cross Entropy cost. "
   ]
  },
  {
   "cell_type": "code",
   "execution_count": null,
   "metadata": {
    "scrolled": true
   },
   "outputs": [],
   "source": [
    "model_ce = LogisticRegression(x_train_scaled, y_train, x_test_scaled, y_test)\n",
    "train_acc_ce, test_acc_ce = model_ce.train_binary_classification_cross_entropy(iterations=1000)"
   ]
  },
  {
   "cell_type": "code",
   "execution_count": null,
   "metadata": {
    "scrolled": true
   },
   "outputs": [],
   "source": [
    "#Plot the model training accuracies\n",
    "plt.xlabel('Iterations')\n",
    "plt.ylabel('Percentage Correctly Classified')\n",
    "plt.title('Training Accuracy')\n",
    "plt.ylim([0, 100])\n",
    "plt.plot(train_acc_mse, 'r-.', label='Logistic (MSE)')\n",
    "plt.plot(train_acc_ce, 'g-', label='Logistic (Cross-Entropy)')\n",
    "plt.legend(loc='best')"
   ]
  },
  {
   "cell_type": "code",
   "execution_count": null,
   "metadata": {
    "scrolled": true
   },
   "outputs": [],
   "source": [
    "#Plot the model testing accuracies\n",
    "plt.xlabel('Iterations')\n",
    "plt.ylabel('Percentage Correctly Classified')\n",
    "plt.title('Test Accuracy')\n",
    "plt.ylim([0, 105])\n",
    "plt.plot(test_acc_mse, 'r-.', label='Logistic (MSE)')\n",
    "plt.plot(test_acc_ce, 'g-', label='Logistic (Cross-Entropy)')\n",
    "plt.legend(loc='best')"
   ]
  },
  {
   "cell_type": "markdown",
   "metadata": {},
   "source": [
    "# 1.2 Logistic Regression with Cross Entropy Cost (Minimization with  Stochastic Gradient Descent)\n",
    "\n",
    "### In this problem you are expected to implement SGD algorithm with Cross Entropy Cost and build a binary classification pipeline:\n",
    "\n",
    "- Implement **Stochastic Gradient Descent** algorithm for Cross Entropy Cost\n",
    "- Construct a Binary Linear Classification model with Logistic Regression and Cross Entropy Cost\n",
    "- Optimize the model parameters with Stochastic Gradient Descent. Implement hyperparameter search for learning rate and weight initialization. Report your search results. Plot Training and Testing accuracies Gradient Descent and SGD minimizations. Report and compare the performance of the models in terms of accuracy, precision, recall, and F1-scores.\n",
    "\n",
    "You have been provided with a dataset **(HW2_Q1_2.npy)** consisting of three dimensions as features and corresponding labels. **This dataset will consist 20% of the dataset as the test set.** You may load the dataset by running the following cell."
   ]
  },
  {
   "cell_type": "code",
   "execution_count": 10,
   "metadata": {},
   "outputs": [],
   "source": [
    "import numpy as np\n",
    "\n",
    "with open('HW2_Q1_2.npy', 'rb') as f:\n",
    "    x_train = np.load(f)\n",
    "    x_test = np.load(f)\n",
    "    y_train = np.load(f)\n",
    "    y_test = np.load(f)"
   ]
  },
  {
   "cell_type": "code",
   "execution_count": 3,
   "metadata": {},
   "outputs": [],
   "source": [
    "##############################################################################\n",
    "# TODO: Implement Stochastic Gradient Descent (SGD) algorithm in             #\n",
    "# LogisticRegression module. (For cross entropy cost)                        #\n",
    "# Perform data scaling with MinMaxScaler                                     #\n",
    "# Train the Logistic Regression model with both Gradient Descent (with Cross #\n",
    "# Entropy Cost) and SGD                                                      #\n",
    "# Plot and report the training and test accuracies, precision, recall,       #\n",
    "# and F-1s.                                                                  #\n",
    "##############################################################################\n",
    "\n",
    "\n",
    "\n",
    "##############################################################################\n",
    "#                             END OF YOUR CODE                               #\n",
    "##############################################################################"
   ]
  },
  {
   "cell_type": "markdown",
   "metadata": {},
   "source": [
    "# 2. PERCEPTRON \n",
    "\n",
    "In Problem set 1, classification was treated as a particular form of non-linear regression resulted learning a linear decision boundary:\n",
    "\n",
    "\n",
    "<div style=\"text-align:center\">\n",
    "$\\mathbf{\\widetilde{x}}^T \\mathbf{\\widetilde{w}} = 0 .$\n",
    "</div> \n",
    "\n",
    "The Perceptron described here aims at determining this ideal linear decision boundary directly. It has a different approach than non-linear regression, the primary goal of perceptron is to separate different classes. The linear decision boundary cuts the input space into two half-spaces and our desired solution defines a hyperplane where we have:\n",
    "\n",
    "<div align=\"center\">\n",
    "    <span>$\\mathbf{\\widetilde{x}}^T_p \\mathbf{\\widetilde{w}} > 0$ if $y_p = +1$</span> <br>\n",
    "    <span>$\\mathbf{\\widetilde{x}}^T_p \\mathbf{\\widetilde{w}} < 0$ if $y_p = -1$</span>\n",
    "</div>\n",
    "\n",
    "For this decision boundary, the cost function for the entire dataset can be written as:\n",
    "<div align=\"center\">\n",
    "$g_p(\\mathbf{\\widetilde{x}}) = \\frac{1}{P} \\sum_{p=1}^P max(0, -y_p\\mathbf{\\widetilde{x}}^T_p \\mathbf{\\widetilde{w}}) $\n",
    "</div>\n",
    "\n",
    "This cost function goes names such as _Perceptron cost, rectified linear unit, ReLU cost, and the hinge cost_. This function is always _convex_ except a single discontinuous derivative. Therefore, a common approach is to approximate the Perceptron cost with _Softmax_ function.\n",
    "\n",
    "_Softmax_ function is defined as:\n",
    "<div align=\"center\">\n",
    "$soft(s_0, s_1, \\cdots, s_{C-1}) = log(e^{s_0} + e^{s_1} + \\cdots + e^{s_{C-1}})$\n",
    "</div>\n",
    "\n",
    "Softmax function is a smooth approximarion to the $max$ function. Replacing the $max$ function gives the overall cost function as:\n",
    "<div align=\"center\">\n",
    "$g_p(\\mathbf{\\widetilde{x}}) = \\frac{1}{P} \\sum_{p=1}^P log(1+e^{-y_p \\mathbf{\\widetilde{x}}^T_p \\mathbf{\\widetilde{w}}})$\n",
    "    </div>\n",
    "\n",
    "This cost alleviates the difficulties of the Perceptron cost. This cost can be minimized by local optimization techniques.\n",
    "\n",
    "## 2.1 Binary MNIST classification by Perceptron with Softmax Approximation\n",
    "\n",
    "In this problem , you will implement a binary classification on 2 digits of `MNIST` dataset by training a Perceptron model. Your Perceptron model will compute loss with Softmax approximation. You are assigned to find optimal parameters $\\mathbf{\\widetilde{w}}^{*}$ that minimizes the previously introduced cost function by using iterative optimization scheme **Stochastic Gradient Descent**. To achieve that, please complete **fit sgd()** methods of **SoftmaxPerceptron** class under **SoftmaxPerceptron.py** module as instructed. You are expected to implement hyperparameter search by changing the default values and plot accuracy curves for your search, and for the best results. "
   ]
  },
  {
   "cell_type": "markdown",
   "metadata": {},
   "source": [
    "We may start by loading the data:"
   ]
  },
  {
   "cell_type": "code",
   "execution_count": 2,
   "metadata": {
    "scrolled": true
   },
   "outputs": [],
   "source": [
    "import torch\n",
    "from torchvision import datasets, transforms\n",
    "# Load the MNIST training and test datasets\n",
    "train_dataset = datasets.MNIST(root='./data', train=True, download=True, transform=None)\n",
    "test_dataset = datasets.MNIST(root='./data', train=False, download=True, transform=None)"
   ]
  },
  {
   "cell_type": "markdown",
   "metadata": {},
   "source": [
    "`MNIST` dataset has **60000 training and 10000 test images**. Let's see the dimensions of data."
   ]
  },
  {
   "cell_type": "code",
   "execution_count": 3,
   "metadata": {},
   "outputs": [
    {
     "name": "stdout",
     "output_type": "stream",
     "text": [
      "Train dataset size: torch.Size([60000, 28, 28])\n",
      "Test dataset size: torch.Size([10000, 28, 28])\n"
     ]
    }
   ],
   "source": [
    "print(\"Train dataset size:\", train_dataset.data.shape)\n",
    "print(\"Test dataset size:\", test_dataset.data.shape)"
   ]
  },
  {
   "cell_type": "markdown",
   "metadata": {},
   "source": [
    "Each sample is a 28x28 image. Let's visualize one example and see what they look like. "
   ]
  },
  {
   "cell_type": "code",
   "execution_count": 4,
   "metadata": {},
   "outputs": [
    {
     "name": "stderr",
     "output_type": "stream",
     "text": [
      "In /home/esra/anaconda3/envs/agi/lib/python3.7/site-packages/matplotlib/mpl-data/stylelib/_classic_test.mplstyle: \n",
      "The text.latex.preview rcparam was deprecated in Matplotlib 3.3 and will be removed two minor releases later.\n",
      "In /home/esra/anaconda3/envs/agi/lib/python3.7/site-packages/matplotlib/mpl-data/stylelib/_classic_test.mplstyle: \n",
      "The mathtext.fallback_to_cm rcparam was deprecated in Matplotlib 3.3 and will be removed two minor releases later.\n",
      "In /home/esra/anaconda3/envs/agi/lib/python3.7/site-packages/matplotlib/mpl-data/stylelib/_classic_test.mplstyle: Support for setting the 'mathtext.fallback_to_cm' rcParam is deprecated since 3.3 and will be removed two minor releases later; use 'mathtext.fallback : 'cm' instead.\n",
      "In /home/esra/anaconda3/envs/agi/lib/python3.7/site-packages/matplotlib/mpl-data/stylelib/_classic_test.mplstyle: \n",
      "The validate_bool_maybe_none function was deprecated in Matplotlib 3.3 and will be removed two minor releases later.\n",
      "In /home/esra/anaconda3/envs/agi/lib/python3.7/site-packages/matplotlib/mpl-data/stylelib/_classic_test.mplstyle: \n",
      "The savefig.jpeg_quality rcparam was deprecated in Matplotlib 3.3 and will be removed two minor releases later.\n",
      "In /home/esra/anaconda3/envs/agi/lib/python3.7/site-packages/matplotlib/mpl-data/stylelib/_classic_test.mplstyle: \n",
      "The keymap.all_axes rcparam was deprecated in Matplotlib 3.3 and will be removed two minor releases later.\n",
      "In /home/esra/anaconda3/envs/agi/lib/python3.7/site-packages/matplotlib/mpl-data/stylelib/_classic_test.mplstyle: \n",
      "The animation.avconv_path rcparam was deprecated in Matplotlib 3.3 and will be removed two minor releases later.\n",
      "In /home/esra/anaconda3/envs/agi/lib/python3.7/site-packages/matplotlib/mpl-data/stylelib/_classic_test.mplstyle: \n",
      "The animation.avconv_args rcparam was deprecated in Matplotlib 3.3 and will be removed two minor releases later.\n"
     ]
    },
    {
     "data": {
      "image/png": "[encoded data removed]",
      "text/plain": [
       "<Figure size 432x288 with 1 Axes>"
      ]
     },
     "metadata": {
      "needs_background": "light"
     },
     "output_type": "display_data"
    }
   ],
   "source": [
    "import matplotlib.pyplot as plt\n",
    "\n",
    "# Define function to visualize a digit\n",
    "def visualize_digit(image, label):\n",
    "    plt.imshow(image, cmap='gray')\n",
    "    plt.title(f'Label: {label}')\n",
    "    plt.axis('off')\n",
    "    plt.show()\n",
    "\n",
    "# Visualize a digit from the training dataset\n",
    "index = 0  # Choose the index of the digit to visualize\n",
    "digit_image = train_dataset.data[index]\n",
    "visualize_digit(digit_image, 5)"
   ]
  },
  {
   "cell_type": "markdown",
   "metadata": {},
   "source": [
    "To train a binary classification Perceptron model on `MNIST`, we will create our custom subset, which contains only digits 0 and 1. And then, we will flatten the images into vectors. Please run the following cell, you do not need to change anything."
   ]
  },
  {
   "cell_type": "code",
   "execution_count": 50,
   "metadata": {},
   "outputs": [
    {
     "name": "stdout",
     "output_type": "stream",
     "text": [
      "torch.Size([5923])\n",
      "torch.Size([11872])\n"
     ]
    }
   ],
   "source": [
    "# Filter train and test data for classes 0 and 1\n",
    "train_indices = torch.logical_or(train_dataset.targets == 0, train_dataset.targets == 9)\n",
    "test_indices = torch.logical_or(test_dataset.targets == 0, test_dataset.targets == 9)\n",
    "\n",
    "train_data_filtered = train_dataset.data[train_indices]\n",
    "train_labels_filtered = train_dataset.targets[train_indices]\n",
    "test_data_filtered = test_dataset.data[test_indices]\n",
    "test_labels_filtered = test_dataset.targets[test_indices]\n",
    "\n",
    "# Relabel classes 0 and 1 as 1 and -1 respectively\n",
    "train_labels_filtered[train_labels_filtered == 1] = -1\n",
    "train_labels_filtered[train_labels_filtered == 0] = 1\n",
    "test_labels_filtered[test_labels_filtered == 1] = -1\n",
    "test_labels_filtered[test_labels_filtered == 0] = 1\n",
    "\n",
    "# Flatten the images and convert them to numpy arrays\n",
    "train_data_flat = train_data_filtered.reshape(train_data_filtered.shape[0], -1).T.numpy()\n",
    "test_data_flat = test_data_filtered.reshape(test_data_filtered.shape[0], -1).T.numpy()\n",
    "train_labels_filtered = train_labels_filtered.numpy()\n",
    "test_labels_filtered = test_labels_filtered.numpy()\n"
   ]
  },
  {
   "cell_type": "markdown",
   "metadata": {},
   "source": [
    "We start constructing our classification pipeline by scaling our data."
   ]
  },
  {
   "cell_type": "code",
   "execution_count": null,
   "metadata": {},
   "outputs": [],
   "source": [
    "from data_utils import MinMaxScaler\n",
    "import numpy as np \n",
    "np.random.seed(42)\n",
    "\n",
    "scaler = MinMaxScaler()\n",
    "fitted = scaler.fit(train_data_flat)\n",
    "x_train_norm = scaler.transform(train_data_flat)\n",
    "x_test_norm = scaler.transform(test_data_flat)"
   ]
  },
  {
   "cell_type": "markdown",
   "metadata": {},
   "source": [
    "Now, we have train_data_flat as training set, and test_data_flat as test set. Let's check the sizes of the dataset. "
   ]
  },
  {
   "cell_type": "code",
   "execution_count": 51,
   "metadata": {},
   "outputs": [
    {
     "name": "stdout",
     "output_type": "stream",
     "text": [
      "train set size: (784, 11872)\n",
      "test set size: (784, 1989)\n"
     ]
    }
   ],
   "source": [
    "print(\"train set size:\", train_data_flat.shape)\n",
    "print(\"test set size:\", test_data_flat.shape)"
   ]
  },
  {
   "cell_type": "markdown",
   "metadata": {},
   "source": [
    "Now, you need to normalize the flattened data arrays"
   ]
  },
  {
   "cell_type": "code",
   "execution_count": 52,
   "metadata": {},
   "outputs": [],
   "source": [
    "from data_utils import MinMaxScaler\n",
    "import numpy as np \n",
    "np.random.seed(42)\n",
    "\n",
    "scaler = MinMaxScaler()\n",
    "fitted = scaler.fit(train_data_flat)\n",
    "x_train_norm = scaler.transform(train_data_flat)\n",
    "x_test_norm = scaler.transform(test_data_flat)"
   ]
  },
  {
   "cell_type": "markdown",
   "metadata": {},
   "source": [
    "#### Now we can construct our model by calling SoftmaxPerceptron and start training. Fit_sgd() method trains the Perceptron with Stochastic Gradient Descent algorithm. You need the complete the methods in SoftmaxPerceptron module as instructed. Implement hyperparameter search to observe the change in accuracy, and plot each curve. Plot the training and test accuracies, precisions, recalls, and F-1 scores. "
   ]
  },
  {
   "cell_type": "code",
   "execution_count": 2,
   "metadata": {},
   "outputs": [],
   "source": [
    "##############################################################################\n",
    "# TODO: -Complete SoftmaxPerceptron.py module as instructed.                 #\n",
    "# -Construct a Perceptron model for binary classification where targets      #\n",
    "# are -1 or +1.                                                              #\n",
    "# -Train your model with fit_gd() method which implements gradient descent   #\n",
    "# algorithm for obtaining optimal model parameters. Implement hyperparameter #\n",
    "# search for learning rate and weight initialization.                        #\n",
    "# -Report performance in terms of accuracy.                                  #\n",
    "# Plot the training and test accuracy, recall, precision, and F-1 scores.    #\n",
    "##############################################################################\n",
    "\n",
    "\n",
    "\n",
    "##############################################################################\n",
    "#                             END OF YOUR CODE                               #\n",
    "##############################################################################"
   ]
  },
  {
   "cell_type": "markdown",
   "metadata": {},
   "source": [
    "# 2.2 Regularized Two-Class Classification\n",
    "\n",
    "When the dataset is perfectly linearly separable, Softmax cost faces severe numerical instability issues. There are several ways to overcome this problem and _regularization of weights_ is one of them. \n",
    "\n",
    "In this question you will implement regularization of the feature touching parameters $\\mathbf{w}$ of Perceptron model. You will implement your regularized cost minimization with Gradient Descent in **fit_gd_regularized()** method under the _SoftmaxPerceptron_ class. \n",
    "\n",
    "Feature touching weights of the perceptron model and input column vector are shown below:\n",
    "\n",
    "<div style=\"text-align:center\">\n",
    "$\\mathbf{w} = \\begin{bmatrix}\n",
    "w_1 \\\\\n",
    "w_2 \\\\\n",
    "\\vdots \\\\\n",
    "w_{N}\n",
    "\\end{bmatrix} $\n",
    "and $\\mathbf{x} = \\begin{bmatrix}\n",
    "x_1 \\\\\n",
    "x_2 \\\\\n",
    "\\vdots \\\\\n",
    "x_{N}\n",
    "\\end{bmatrix}$ .\n",
    "    \n",
    "Now, we can express a linear decision boundary as:\n",
    "    \n",
    "<div style=\"text-align:center\">\n",
    "$\\mathbf{\\widetilde{x}}^T \\mathbf{\\widetilde{w}} = b + \\mathbf{x}^T \\mathbf{w} = 0.$\n",
    "</div> \n",
    "\n",
    "where $b$ is the bias. \n",
    "    \n",
    "To prevent feature touching weights from growing too large and diverging to infinity, we can constrain Softmax/Cross Entropy cost as follows:\n",
    "    \n",
    "<div align=\"center\">\n",
    "$g(b, \\mathbf{w}) = \\frac{1}{P} \\sum_{p=1}^P log(1+e^{-y_p (\\mathbf{x}^T_p \\mathbf{w}+b)})  + \\lambda \\|\\mathbf{w}\\|_2^2$\n",
    "</div>\n",
    "\n",
    "    \n",
    "Here, the term $\\|\\mathbf{w}\\|_2^2$ is referred to as _regularizer_ , and the parameter $\\lambda>0$ is called a _regularization parameter_.\n",
    "    \n",
    "As before, the goal is to find optimal bias and weight parameters $b^*$ and $\\mathbf{w}^*$ that minimize $g(b, \\mathbf{w})$. \n",
    "    \n",
    "In this question the task is creating a regularized binary classification pipeline with Perceptron model. The parameters will be found by using Gradient Descent algorithm. Specifically you need to:\n",
    "    \n",
    "1- Implement training a Perceptron model with regularization under **fit_gd_regularized()** method.\n",
    "    \n",
    "2- Load the data \"HW2_Q2_2.npy\" and scale features with MinMaxScaler.\n",
    "\n",
    "3- Set up your model and train with **fit_gd_regularized()** method. Implement hyperparameter search (Including \n",
    "   $\\lambda$) and plot training and testing accuracies. Report test set Recall, Precision, and Accuracy results. \n",
    "\n",
    "4- Implement cross validation on the training set (for folds: [2,3,...,10]) and report/plot the average performance. "
   ]
  },
  {
   "cell_type": "markdown",
   "metadata": {},
   "source": [
    "#### Following cell loads the training and testing datasets."
   ]
  },
  {
   "cell_type": "code",
   "execution_count": 9,
   "metadata": {},
   "outputs": [],
   "source": [
    "import numpy as np\n",
    "import matplotlib.pyplot as plt\n",
    "\n",
    "with open('HW2_Q2_2.npy', 'rb') as f:\n",
    "    X_train = np.load(f)\n",
    "    X_test = np.load(f)\n",
    "    y_train = np.load(f)\n",
    "    y_test = np.load(f)"
   ]
  },
  {
   "cell_type": "code",
   "execution_count": null,
   "metadata": {},
   "outputs": [],
   "source": [
    "##############################################################################\n",
    "# TODO: -Complete fit_gd_regularized() method as instructed.                 #\n",
    "# -Construct a Perceptron model for binary classification where targets      #\n",
    "# are -1 or +1.                                                              #\n",
    "# -Train your model with fit_gd_regularized() method which implements GD     #\n",
    "# algorithm on regularized cost function. The purpose is preventing feature  #\n",
    "# toucing weights to grow larger. Implement hyperparameter                   #\n",
    "# search for learning rate, weight initialization, and regularization        #\n",
    "# parameter lambda. Plot training and test accuracies.                       #\n",
    "# -Report performance in terms of accuracy, recall, precision, and F-1 scores#\n",
    "##############################################################################\n",
    "\n",
    "\n",
    "\n",
    "##############################################################################\n",
    "#                             END OF YOUR CODE                               #\n",
    "##############################################################################"
   ]
  }
 ],
 "metadata": {
  "kernelspec": {
   "display_name": "Python 3 (ipykernel)",
   "language": "python",
   "name": "python3"
  },
  "language_info": {
   "codemirror_mode": {
    "name": "ipython",
    "version": 3
   },
   "file_extension": ".py",
   "mimetype": "text/x-python",
   "name": "python",
   "nbconvert_exporter": "python",
   "pygments_lexer": "ipython3",
   "version": "3.8.18"
  }
 },
 "nbformat": 4,
 "nbformat_minor": 4
}
