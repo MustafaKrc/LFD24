{
 "cells": [
  {
   "cell_type": "markdown",
   "metadata": {},
   "source": [
    "#### Student informations (Max. 2 students) should be written in this cell (Student ID, Student Name).\n",
    "\n",
    "Student 1:\n",
    "\n",
    "Student 2: "
   ]
  },
  {
   "cell_type": "markdown",
   "metadata": {},
   "source": [
    "# HOMEWORK 2:   Gradient Descent, Stocahtic Gradient Descent, Data Normalization and Cross Validation for Regression Training and Testing"
   ]
  },
  {
   "cell_type": "markdown",
   "metadata": {},
   "source": [
    "In Homework 1, we trained various Linear and Polynomial regression models by using direct and iterative optimization methods. However, testing was not included. In this homework you are assigned training and _testing_ various regression models, and building complete learning pipelines by implementing data normalization and cross-validation in your solutions. \n",
    "\n",
    "Your homework consists of a total of 5 problems. Please read this notebook carefully to ensure that you provide all the required solutions to the problems. (For your questions, please email: ergunesr@itu.edu.tr. Note: I will only guide you to the solutions and will not directly check your codes/answers or provide the answers.)"
   ]
  },
  {
   "cell_type": "markdown",
   "metadata": {},
   "source": [
    "# 1.1 Training and Testing a Linear Regression Model with Gradient Descent and Data Normalization\n",
    "\n",
    "In the following problem you are provided with a synthetic dataset consisting 500 samples and one feature dimension. You are expected to complete the **minMaxScaler** inside the **data_utils.py**, **GradientDescent** in **linearRegression.py** as instructed, train a linear regression model with the training split of your data, and make predictions. Please read carefully the cells in this notebook and make sure you implement and report every result required. \n",
    "\n",
    "Let's briefly recall **Linear Regression** from Homework 1:\n",
    "\n",
    "Suppose we have $p$ input-output observation pairs that we want to regress:\n",
    "<div style=\"text-align:center\">\n",
    "${ \\{ (\\mathbf{x_1},y_1), (\\mathbf{x_2},y_2), ... ,(\\mathbf{x_P}, y_P) \\} } $\n",
    "</div> \n",
    "where $\\mathbf{x_p}$ and $y_p$ denote the $p$th input and output respectively. In 2-dimensional space, where we have a scalar input and output, linear regression problem is a line fitting problem. As an example of a problem in which regression analysis may be\n",
    "helpful, suppose input represents living areas and output represents prices of houses in Istanbul. Given this data, how can we learn to predict the prices of other houses in Istanbul, as a function of the size of their living areas? \n",
    "\n",
    "Generally, each input will be a column vector of length $N$, and we will denote this as $\\mathbf{x_p}$. With input dimension $N$, linear regression problem is fitting a hyperplane to a scatter of points in $N+1$ dimensional space. \n",
    "\n",
    "In the case of scalar input, fitting a line to data requires determining a slope $w$ and bias (or $y$-intercept) $b$ so that we approaximate linear relationship holds between the input/output data:\n",
    "<div style=\"text-align:center\">\n",
    "    $b + x_p w \\approx y_p, $ \n",
    "\n",
    "</div> \n",
    "\n",
    "where             $p=1,...,P.$\n",
    "\n",
    "When the input dimension is larger than 1, $N>1$, then we have a bias and $N$ associated weights.\n",
    "<div style=\"text-align:center\">\n",
    "$\\mathbf{w} = \\begin{bmatrix}\n",
    "w_1 \\\\\n",
    "w_2 \\\\\n",
    "\\vdots \\\\\n",
    "w_{N}\n",
    "\\end{bmatrix}$\n",
    "</div> \n",
    "Input variables (the elements of an input vector $\\mathbf{x_p}$) are also called input features.  We will use $x_{i,p}$ to denote the input features so that an input vector is:\n",
    "\n",
    "<div style=\"text-align:center\">\n",
    "$\\mathbf{x} = \\begin{bmatrix}\n",
    "x_{1,p} \\\\\n",
    "x_{2,p} \\\\\n",
    "\\vdots \\\\\n",
    "x_{N,p}\n",
    "\\end{bmatrix}$\n",
    "</div> \n",
    "\n",
    "The goal of linear regression is to estimate the bias and weights that minimize the sum of squared differences between the output values $y_p$ and the values predicted by the model $\\hat{y}_p$.\n",
    "\n",
    "We will use these notations for mathematical convenience;\n",
    " <div style=\"text-align:center\">\n",
    "$\\mathbf{\\widetilde{x}_p} = \\begin{bmatrix}\n",
    "1 \\\\\n",
    "\\mathbf{x_p} \\\\\n",
    "\\end{bmatrix}$  \n",
    "\n",
    " </div> \n",
    "\n",
    "<div style=\"text-align:center\">\n",
    "$\\mathbf{\\widetilde{w}} = \\begin{bmatrix}\n",
    "b \\\\\n",
    "\\mathbf{w} \\\\\n",
    "\\end{bmatrix}$  \n",
    "\n",
    "</div> "
   ]
  },
  {
   "cell_type": "markdown",
   "metadata": {},
   "source": [
    "## Installation \n",
    "To start your homework, you need to install requirements. We recommend that you use conda environment for this homework. \n",
    "\n",
    "1. conda create -n ldhw2 python=3.8 numpy=1.23.5 matplotlib\n",
    "2. conda activate ldhw2\n",
    "3. conda install -c conda-forge notebook"
   ]
  },
  {
   "cell_type": "code",
   "execution_count": 1,
   "metadata": {},
   "outputs": [],
   "source": [
    "%load_ext autoreload\n",
    "%autoreload 2"
   ]
  },
  {
   "cell_type": "code",
   "execution_count": 216,
   "metadata": {},
   "outputs": [],
   "source": [
    "import numpy as np\n",
    "import matplotlib.pyplot as plt\n",
    "from data_utils import generate_data\n",
    "# xData and yData constitutes your training set.\n",
    "\n",
    "x_train, y_train, x_test, y_test = generate_data()"
   ]
  },
  {
   "cell_type": "markdown",
   "metadata": {},
   "source": [
    "The **transform** and **inverse_transform** methods are part of the **MinMaxScaler** class, which is commonly used for feature scaling and normalization. Feature scaling is important in data preprocessing to ensure that features with larger values do not dominate the model training process. The transform method scales the input data to a desired range, while the **inverse_transform** method can be used to reverse this scaling operation. By implementing these methods in the data_utils.py file, we can ensure that the input data is properly scaled and balanced, which can improve the performance of the regressors."
   ]
  },
  {
   "cell_type": "code",
   "execution_count": 169,
   "metadata": {},
   "outputs": [],
   "source": [
    "from data_utils import MinMaxScaler\n",
    "# Create an instance of MinMaxScaler\n",
    "scaler = MinMaxScaler(x_train)\n",
    "\n",
    "\n",
    "# Transform x_train and x_test\n",
    "x_train_scaled = scaler.transform(x_train)\n",
    "x_test_scaled = scaler.transform(x_test)\n",
    "\n",
    "\n",
    "# Do the same for target variables\n",
    "scaler_y = MinMaxScaler(y_train)\n",
    "\n",
    "\n",
    "# Transform x_train and x_test\n",
    "y_train_scaled = scaler_y.transform(y_train)\n",
    "y_test_scaled = scaler_y.transform(y_test)"
   ]
  },
  {
   "cell_type": "markdown",
   "metadata": {},
   "source": [
    "Now, you need to create two model objects to train one on unnormalized and the other on normalized data. Learning rate is set to 0.1. You only need to implement weight initialization search, and plot your cost curves. (One for each model.)"
   ]
  },
  {
   "cell_type": "code",
   "execution_count": null,
   "metadata": {},
   "outputs": [],
   "source": [
    "from linearRegression import gradientDescent\n",
    "lr = 0.00001\n",
    "\n",
    "###### TO DO: try different initializations and plot the cost curves, pick the best initialization accordingly.#####\n",
    "####################################################################################################################\n",
    "w = np.random.randn(x_train.shape[1]+1,1)\n",
    "max_iterations = 100\n",
    "model_unnormalized = gradientDescent(x_train, y_train, w, lr, max_iterations)\n",
    "# train the model by calling fit() function\n",
    "model_unnormalized.fit(lr, 100)\n",
    "\n",
    "###### TO DO: try different initializations and plot the cost curves, pick the best initialization accordingly.#####\n",
    "####################################################################################################################\n",
    "lr = 0.8\n",
    "# Constructing model to train on normalized data. \n",
    "model_normalized = gradientDescent(x_train_scaled, y_train_scaled, w, lr, max_iterations)\n",
    "# train the model by calling fit() function\n",
    "model_normalized.fit(lr, 400)"
   ]
  },
  {
   "cell_type": "markdown",
   "metadata": {},
   "source": [
    "After finding the best weight initialization for both models you please compare the training cost plots and testing error (RMSE) results of **model_unnormalized** and **model_normalized**.\n",
    "\n",
    "You may use **predict()** method to get predicted results of **x_test**. After that, you need to use **inverse_transform** method of your **minMaxScaler** class. "
   ]
  },
  {
   "cell_type": "code",
   "execution_count": 171,
   "metadata": {},
   "outputs": [],
   "source": [
    "# Predict unnormalized test data\n",
    "y_unnorm_predict = model_unnormalized.predict(x_test)\n",
    "\n",
    "# Predict normalized test data\n",
    "y_norm_predict = model_normalized.predict(x_test_scaled)"
   ]
  },
  {
   "cell_type": "markdown",
   "metadata": {},
   "source": [
    "Now, you may run the following cell to plot the training data (in blue) and the predicted test values (in red)."
   ]
  },
  {
   "cell_type": "code",
   "execution_count": 172,
   "metadata": {},
   "outputs": [
    {
     "data": {
      "image/png": "[encoded data removed]",
      "text/plain": [
       "<Figure size 640x480 with 2 Axes>"
      ]
     },
     "metadata": {},
     "output_type": "display_data"
    }
   ],
   "source": [
    "plt.subplot(1, 2, 1)\n",
    "plt.scatter(x_test, y_test)\n",
    "plt.scatter(x_test, y_unnorm_predict, color='red')\n",
    "plt.xlabel('x')\n",
    "plt.ylabel('y')\n",
    "plt.subplot(1, 2, 2)\n",
    "plt.plot(model_unnormalized.cost_history)\n",
    "plt.xlabel('Iterations')\n",
    "plt.ylabel('Cost')\n",
    "\n",
    "plt.show()"
   ]
  },
  {
   "cell_type": "markdown",
   "metadata": {},
   "source": [
    "Before plotting the points for the normalized case, we need to transfer the normalized points to the original data space by calling **inverse_transform** method of the **minMaxScaler**."
   ]
  },
  {
   "cell_type": "code",
   "execution_count": 173,
   "metadata": {},
   "outputs": [],
   "source": [
    "y_norm_inv = scaler_y.inverse_transform(y_norm_predict)"
   ]
  },
  {
   "cell_type": "code",
   "execution_count": 174,
   "metadata": {},
   "outputs": [
    {
     "data": {
      "image/png": "[encoded data removed]",
      "text/plain": [
       "<Figure size 640x480 with 2 Axes>"
      ]
     },
     "metadata": {},
     "output_type": "display_data"
    }
   ],
   "source": [
    "plt.subplot(1, 2, 1)\n",
    "plt.scatter(x_test, y_test)\n",
    "plt.scatter(x_test, y_norm_inv, color='red')\n",
    "plt.xlabel('x')\n",
    "plt.ylabel('y')\n",
    "plt.subplot(1, 2, 2)\n",
    "plt.plot(model_normalized.cost_history)\n",
    "plt.xlabel('Iterations')\n",
    "plt.ylabel('Cost')\n",
    "\n",
    "plt.show()"
   ]
  },
  {
   "cell_type": "markdown",
   "metadata": {},
   "source": [
    "Now, let's compare the **Root Mean Squared Errors** of both methods. "
   ]
  },
  {
   "cell_type": "code",
   "execution_count": null,
   "metadata": {},
   "outputs": [],
   "source": [
    "rmse_unnorm = np.sqrt(np.sum(np.square(y_test - y_unnorm_predict)))/y_test.shape[0]\n",
    "\n",
    "rmse_norm = np.sqrt(np.sum(np.square(y_test - y_norm_inv)))/y_test.shape[0]\n",
    "\n",
    "print(\"RMSE for unnormalized training:\", rmse_unnorm)\n",
    "print(\"RMSE for normalized training:\", rmse_norm)"
   ]
  },
  {
   "cell_type": "markdown",
   "metadata": {},
   "source": [
    "Depending on the type of data you have, normalized training can show its benefits significantly in your model's prediction results. "
   ]
  },
  {
   "cell_type": "markdown",
   "metadata": {},
   "source": [
    "# 1.2 Linear Regression with Gradient Descent, Stochastic Gradient Descent, and Data Scaling\n",
    "\n",
    "In the previous problem, you were assigned to find solutions to mean squared error linear regressor with gradient descent algorithm. In this question you are asked to implement **Stochastic Gradient Descent (SGD)**. SGD is a variant of gradient descent wherein we pick a sample $I_t$ uniformly at random in $\\{1,...,p\\}$ and update the weights as follows:\n",
    "\n",
    "\\begin{align*}\n",
    "w_{i}^{t+1} &= w_{i}^{t} - \\alpha \\frac{\\partial g(\\mathbf{\\widetilde{w}}^{t})}{\\partial w_{i}^t} \\text{ for all } i \\\\\n",
    "b^{t+1} &= b^{t} - \\alpha \\frac{\\partial g(\\mathbf{\\widetilde{w}}^t)}{\\partial b^t}\n",
    "\\end{align*}\n",
    "\n",
    "- $\\mathbf{\\widetilde{w}}^{t}$ represents the weight vector at time step $t$.\n",
    "- $\\alpha$ is the learning rate.\n",
    "- $g(\\mathbf{\\widetilde{w}}^{t})$ is the loss function computed with $I_t$.\n",
    "- $\\frac{\\delta g(\\mathbf{\\widetilde{w}}^{t})}{\\delta \\mathbf{\\widetilde{w}}^{t}}$ denotes the gradient of the loss function with respect to the weights $\\mathbf{\\widetilde{w}}^{t}$.\n",
    "\n",
    "### In this problem you are expected to implement SGD algorithm with Mean Squared Error cost and build a linear regression pipeline:\n",
    "\n",
    "1) Implement **Stochastic Gradient Descent** algorithm for Mean Squared Error, complete the class **stochasticGradientDescent()** under **linearRegression.py**\n",
    "\n",
    "2) Normalize your data with **minMaxScaler()**,\n",
    "\n",
    "3) Construct two Linear Regression models by calling **GradientDescent()** and **stochasticGradientDescent()**,\n",
    "\n",
    "4) Optimize the model parameters with Gradient Descent and Stochastic Gradient Descent. Implement hyperparameter search for weight initialization. Report your search results. Compare the performance of the models in terms of training cost convergence and testing RMSE.\n",
    "\n",
    "5) Repeat 3 and 4 for the original **unnormalized** data, report your cost plots, and RMSEs.\n",
    "\n",
    "You are required to report four final cost curves (except hyperparameter optimizations) and four RMSE scores, one for each case. Comment on your results in a cell below. You may use the same learning rate as problem 1.1 ."
   ]
  },
  {
   "cell_type": "code",
   "execution_count": null,
   "metadata": {},
   "outputs": [],
   "source": [
    "##############################################################################\n",
    "# TODO: Implement Stochastic Gradient Descent (SGD) algorithm in             #\n",
    "# LinearRegression module. (For mean squared error cost)                     #\n",
    "# Perform data scaling with MinMaxScaler                                     #\n",
    "# Train the Linear Regression model with both Gradient Descent (with MSE     #\n",
    "# and SGD                                                                    #\n",
    "# Plot the training costs and test error.                                    #\n",
    "# Repeat for the unnormalized data and compare the results.                  #\n",
    "##############################################################################\n",
    "\n",
    "\n",
    "\n",
    "##############################################################################\n",
    "#                             END OF YOUR CODE                               #\n",
    "##############################################################################"
   ]
  },
  {
   "cell_type": "markdown",
   "metadata": {},
   "source": [
    "# 1.3 Polynomial Regression with Gradient Descent and Stochastic Gradient Descent\n",
    "\n",
    "You have been provided with a dataset (Q1_3.py) consisting of two dimension as features and one dimension for regression.  After generating the corresponding Vandermonde matrix for the problem, you are expected to train a $2$nd order polynomial model on the training data, and later test your models. Specifically, the assignment is to complete the following tasks:\n",
    "\n",
    "1) By using the unnormalized data, train a polynomial regression model to find optimal weights $\\mathbf{\\widetilde{w}}^{*}$ by using Gradient Descent and Stochastic Gradient Descent. Explore how the choice of weight initializations in gradient descent and stochastic gradient descent affects the convergence and final weights. You may change the search space provided to you as you want. Test your model on the tesing data and report RMSE. \n",
    "\n",
    "2) Print and compare the weight vectors obtained by gradient descent and stochastic gradient descent. How close are the values in each dimension?\n",
    "\n",
    "3) Normalize your data, repeat step 1 and 2. Compare the training cost curves and testing RMSE errors.\n",
    "\n",
    "**Recall:**\n",
    "\n",
    "Polynomial regression is an extension of linear regression designed to model more complex relationships between input features and the target variable. While linear regression assumes a straight-line relationship, polynomial regression introduces higher-degree terms to capture nonlinear patterns. Polynomials are widely used in situations where the response is curvilinear.\n",
    "\n",
    "Suppose we have $P$ scalar input-output observation pairs:\n",
    "<div style=\"text-align:center\">\n",
    "${ \\{ (x_1,y_1), (x_1,y_2), ... ,(x_P, y_P) \\} } $\n",
    "</div>\n",
    "\n",
    "The following model is a $d$-th order polynomial in one variable:\n",
    "<div style=\"text-align:center\">\n",
    "$ y_p = b + w_1 x_1 + w_2 {x_p}^{2} + w_3 {x_p}^3 + ... + w_d {x_p}^d$\n",
    "</div>\n",
    "\n",
    "Similar to linear regression, one can fit the observation set to a polynomial model by using direct optimization with least squares method. Different from linear regression, one needs to create a special design matrix named Vandermonde matrix, $V$, for storing input values according to the polynomial expression. When $x_p$ is a scalar, we can construct $\\mathbf{V}$ as follows:\n",
    "\n",
    "<div style=\"text-align:center\">\n",
    "$ \\mathbf{V} = \\begin{bmatrix}\n",
    "1 & x_1 & x_1^2 & \\ldots & x_1^{d} \\\\\n",
    "1 & x_2 & x_2^2 & \\ldots & x_2^{d} \\\\\n",
    "\\vdots & \\vdots & \\vdots & \\ddots & \\vdots \\\\\n",
    "1 & x_P & x_P^2 & \\ldots & x_P^{d}\n",
    "\\end{bmatrix} $\n",
    "</div>\n",
    "Suppose input is a 2 dimensional vector with independent features:\n",
    "\n",
    "<div style=\"text-align:center\">\n",
    "$\\mathbf{{x}_p} = \\begin{bmatrix}\n",
    "x_{1,p} \\\\\n",
    "x_{2,p} \\\\\n",
    "\\end{bmatrix}$  \n",
    "</div>\n",
    "\n",
    "Then, the corresponding Vandermonde matrix is (for a degree $d$ polynomial model):\n",
    "\n",
    "<div style=\"text-align:center\">\n",
    "$ \\mathbf{V} = \\begin{bmatrix}\n",
    "1 & x_{1,1} & x_{2,1} & x_{1,1}^2 & x_{2,1}^2  & \\ldots & x_{1,1}^{d} & x_{2,1}^{d} \\\\\n",
    "1 & x_{1,2} & x_{2,2} & x_{1,2}^2  & x_{2,2}^2  & \\ldots & x_{1,2}^{d} & x_{2,2}^{d} \\\\\n",
    "\\vdots & \\vdots & \\vdots & \\vdots & \\vdots & \\ddots & \\vdots  & \\vdots  \\\\\n",
    "1 & x_{1,P} & x_{2,P} & x_{1,P}^2 & x_{2,P}^2  & \\ldots & x_{1,P}^{d} & x_{2,P}^{d} \\\\\n",
    "\\end{bmatrix} $\n",
    "</div>\n",
    "\n",
    "**In this question, you may set learning rate to 0.009.**"
   ]
  },
  {
   "cell_type": "code",
   "execution_count": 1,
   "metadata": {},
   "outputs": [],
   "source": [
    "import numpy as np\n",
    "\n",
    "with open('Q1_3.npy', 'rb') as f:\n",
    "    x_train = np.load(f)\n",
    "    x_test = np.load(f)\n",
    "    y_train = np.load(f)\n",
    "    y_test = np.load(f)"
   ]
  },
  {
   "cell_type": "code",
   "execution_count": null,
   "metadata": {},
   "outputs": [],
   "source": [
    "##############################################################################\n",
    "# TODO: Do all your unnormalized trainings with Gradient Descent and         #\n",
    "# Stochastic Gradient Descent here.                                          #\n",
    "# Plot all training cost history for different different                     #\n",
    "# initial weights.                                                           #\n",
    "# Test your models trained with GD and SGD by regressing on the test data.   #\n",
    "# Report the test performance in terms of RMSE.                              #\n",
    "##############################################################################"
   ]
  },
  {
   "cell_type": "code",
   "execution_count": null,
   "metadata": {},
   "outputs": [],
   "source": [
    "##############################################################################\n",
    "# TODO: Do all your normalized trainings with Gradient Descent and           #\n",
    "# Stochastic Gradient Descent here.                                          #\n",
    "# Plot all training cost history for different different                     #\n",
    "# initial weights.                                                           #\n",
    "# Test your models trained with GD and SGD by regressing on the test data.   #\n",
    "# Report the test performance in terms of RMSE.                              #\n",
    "# Compare the normalized and unnormalized training and testing results.      #\n",
    "##############################################################################"
   ]
  },
  {
   "cell_type": "markdown",
   "metadata": {},
   "source": [
    "## 2.1 CROSS-VALIDATION and Feature Selection for Linear Regression"
   ]
  },
  {
   "cell_type": "markdown",
   "metadata": {},
   "source": [
    "In most of the real world datasets, training error do not reflect the actual test error. A widely-used practical method of obtaining a good estimate of the error rate of a learning\n",
    "algorithm is **k-fold cross-validation** (Cross-Validation: CV). CV partitions the dataset into k equal-sized folds.\n",
    "Each fold acts as a test set for evaluating the model being learned on the other k − 1 folds. The average\n",
    "error across the k hypotheses is used as an estimate of the error rate. The final performance metric is typically the average of the performance metrics obtained in each iteration. Cross-validation provides a robust estimate of a model's performance and guards against overfitting. \n",
    "\n",
    "In this question you are expected to implement **cross-validate()** of the **gradientDescent()** class, under **LinearRegression** module. This method needs to implement 5 Fold cross-validation on the training set and return to average mean squared error on the validation sets using gradient descent training with mean squared cost. After that, you are expected to run the following cells and select the two features yielding the best estimate. Plot the cross validation performance of each combination. You need to check 6 scenarios, since $C(4,2) = 6$. After determining the two features, train a linear regression model on your entire training set using gradient descent, and test it on the test data. Plot the cost, and report the testing RMSE of your trained model.\n",
    "\n",
    "**You may set learning rate to 0.5 .**"
   ]
  },
  {
   "cell_type": "markdown",
   "metadata": {},
   "source": [
    "You may start by loading the data."
   ]
  },
  {
   "cell_type": "code",
   "execution_count": 3,
   "metadata": {},
   "outputs": [],
   "source": [
    "import numpy as np\n",
    "\n",
    "with open('Q2_1.npy', 'rb') as f:\n",
    "    x_train = np.load(f)\n",
    "    x_test = np.load(f)\n",
    "    y_train = np.load(f)\n",
    "    y_test = np.load(f)"
   ]
  },
  {
   "cell_type": "markdown",
   "metadata": {},
   "source": [
    "Normalize the data in the following cell. "
   ]
  },
  {
   "cell_type": "code",
   "execution_count": null,
   "metadata": {},
   "outputs": [],
   "source": [
    "from data_utils import MinMaxScaler\n",
    "# Create an instance of MinMaxScaler\n",
    "scaler = MinMaxScaler(x_train)\n",
    "\n",
    "\n",
    "# Transform x_train and x_test\n",
    "x_train_scaled = scaler.transform(x_train)\n",
    "x_test_scaled = scaler.transform(x_test)\n",
    "\n",
    "\n",
    "# Do the same for target variables\n",
    "scaler_y = MinMaxScaler(y_train)\n",
    "\n",
    "\n",
    "# Transform x_train and x_test\n",
    "y_train_scaled = scaler_y.transform(y_train)\n",
    "y_test_scaled = scaler_y.transform(y_test)"
   ]
  },
  {
   "cell_type": "markdown",
   "metadata": {},
   "source": [
    "You may do the rest of the tasks here."
   ]
  },
  {
   "cell_type": "code",
   "execution_count": null,
   "metadata": {},
   "outputs": [],
   "source": [
    "##############################################################################\n",
    "# TODO: Implement cross-validation under the LinearRegression.py as          #\n",
    "# as instructed. (Using GD, 5-Fold., Implement hyperparameter search inside) #\n",
    "# Implement feature selection using cross-validation. Pick the two feature   #\n",
    "# dimensions yielding the best validation performance.                       #\n",
    "# Using these dimensions, train a linear regression model with GD and        #\n",
    "# Plot all training cost history for different different                     #\n",
    "# initial weights.                                                           #\n",
    "# Report the test performance in terms of RMSE.                              #\n",
    "##############################################################################\n",
    "\n",
    "# Create your training input matrix. Modify the following code as you wish if necessary.\n",
    "x = ...\n",
    "\n",
    "# Perform cross-validation for all combinations of two features\n",
    "for i in range(n_features):\n",
    "    for j in range(i + 1, n_features):\n",
    "        # Select two features based on indices i and j\n",
    "        selected_features = x[:, [i, j]]\n",
    "\n",
    "        # Perform 5-fold cross-validation. \"model\" refers to your gradientDescent object. \n",
    "        cross_val_error = model.cross_validate(k=5)\n",
    "\n",
    "        # Print indices and cross-validation results\n",
    "        print(\"Indices:\", i, j)\n",
    "        print(\"Cross-Validation Error:\", cross_val_error)\n",
    "        print()"
   ]
  },
  {
   "cell_type": "markdown",
   "metadata": {},
   "source": [
    "## 2.2 CROSS-VALIDATION and Feature Selection for Linear Regression (by Stochastic Gradient Descent)"
   ]
  },
  {
   "cell_type": "markdown",
   "metadata": {},
   "source": [
    "In this question you are expected to implement **cross-validate()** of the **SGD()** class, under **linearRegression.py** module. This method needs to implement 5 Fold cross-validation on the training set and return to average mean squared error on the validation sets using stochastic gradient descent training with mean squared cost. Normalize your data, create the corresponding linear regression input matrices and implement feature selection procedure as before. Plot the cross validation performance of each combination. You need to check 6 scenarios, since $C(4,2) = 6$. After determining the two features, train a linear regression model on your entire training set using gradient descent, and test it on the test data. Plot the cost, and report the testing RMSE of your trained model."
   ]
  },
  {
   "cell_type": "code",
   "execution_count": null,
   "metadata": {},
   "outputs": [],
   "source": [
    "##############################################################################\n",
    "# TODO: Implement cross-validation under the LinearRegression.py as          #\n",
    "# as instructed. (Using GD, 5-Fold., Implement hyperparameter search inside) #\n",
    "# Implement feature selection using cross-validation. Pick the two feature   #\n",
    "# dimensions yielding the best validation performance.                       #\n",
    "# Using only these dimensions, train a linear regression model with GD and   #\n",
    "# Plot all training cost history for different different                     #\n",
    "# initial weights.                                                           #\n",
    "# Report the test performance in terms of RMSE.                              #\n",
    "##############################################################################"
   ]
  },
  {
   "cell_type": "markdown",
   "metadata": {},
   "source": [
    "### Compare the results of Question 2.1 and 2.2 and comment on them. "
   ]
  }
 ],
 "metadata": {
  "kernelspec": {
   "display_name": "Python 3",
   "language": "python",
   "name": "python3"
  },
  "language_info": {
   "codemirror_mode": {
    "name": "ipython",
    "version": 3
   },
   "file_extension": ".py",
   "mimetype": "text/x-python",
   "name": "python",
   "nbconvert_exporter": "python",
   "pygments_lexer": "ipython3",
   "version": "3.7.10"
  }
 },
 "nbformat": 4,
 "nbformat_minor": 5
}
